{
 "cells": [
  {
   "cell_type": "code",
   "execution_count": 0,
   "metadata": {
    "application/vnd.databricks.v1+cell": {
     "cellMetadata": {
      "byteLimit": 2048000,
      "rowLimit": 10000
     },
     "inputWidgets": {},
     "nuid": "b0d46897-0abb-4ad2-8dd0-fae08815fb8c",
     "showTitle": false,
     "title": ""
    }
   },
   "outputs": [],
   "source": [
    "from pyspark.sql.types import *"
   ]
  },
  {
   "cell_type": "code",
   "execution_count": 0,
   "metadata": {
    "application/vnd.databricks.v1+cell": {
     "cellMetadata": {
      "byteLimit": 2048000,
      "rowLimit": 10000
     },
     "inputWidgets": {},
     "nuid": "b69834de-1d02-45d4-8881-54297242ff6a",
     "showTitle": false,
     "title": ""
    }
   },
   "outputs": [
    {
     "output_type": "display_data",
     "data": {
      "text/plain": [
       "\u001B[0;36m  File \u001B[0;32m<command-1508725554687634>:17\u001B[0;36m\u001B[0m\n",
       "\u001B[0;31m    StructField(\"totals\",ArrayType(.....),True),\u001B[0m\n",
       "\u001B[0m                                       ^\u001B[0m\n",
       "\u001B[0;31mSyntaxError\u001B[0m\u001B[0;31m:\u001B[0m invalid syntax\n"
      ]
     },
     "metadata": {
      "application/vnd.databricks.v1+output": {
       "arguments": {},
       "data": "\u001B[0;36m  File \u001B[0;32m<command-1508725554687634>:17\u001B[0;36m\u001B[0m\n\u001B[0;31m    StructField(\"totals\",ArrayType(.....),True),\u001B[0m\n\u001B[0m                                       ^\u001B[0m\n\u001B[0;31mSyntaxError\u001B[0m\u001B[0;31m:\u001B[0m invalid syntax\n",
       "errorSummary": "<span class='ansi-red-fg'>SyntaxError</span>: invalid syntax (<command-1508725554687634>, line 17)",
       "errorTraceType": "ansi",
       "metadata": {},
       "type": "ipynbError"
      }
     },
     "output_type": "display_data"
    }
   ],
   "source": [
    "parent_schema = StructType([\n",
    "    StructField(\"orderId\",StringType(),True),\n",
    "    StructField(\"sequence\",IntegerType(),True),\n",
    "    StructField(\"marketplaceOrderId\",StringType(),True),\n",
    "    StructField(\"marketplaceServicesEndpoint\",StringType(),True),\n",
    "    StructField(\"sellerOrderId\",StringType(),True),\n",
    "    StructField(\"origin\",StringType(),True),\n",
    "    StructField(\"affiliateId\",StringType(),True),\n",
    "    StructField(\"salesChannel\",StringType(),True),\n",
    "    StructField(\"merchantName\",StringType(),True),\n",
    "    StructField(\"workflowIsInError\",StringType(),True),\n",
    "    StructField(\"statusDescription\",StringType(),True),\n",
    "    StructField(\"value\",StringType(),True),\n",
    "    StructField(\"creationDate\",StringType(),True),\n",
    "    StructField(\"lastChange\",StringType(),True),\n",
    "    StructField(\"orderGroup\",StringType(),True),\n",
    "    StructField(\"totals\",ArrayType(.....),True),\n",
    "    StructField(\"items\",ArrayType(.....),True),\n",
    "    StructField(\"marketplaceItems\",ArrayType(StringType()),True),\n",
    "    StructField(\"clientProfileData\",ArrayType(.....),True),\n",
    "    StructField(\"giftRegistryData\",StringType(),True),\n",
    "    StructField(\"marketingData\",ArrayType(.....),True),\n",
    "    StructField(\"ratesAndBenefitsData\",ArrayType(.....),True),\n",
    "    StructField(\"shippingData\",ArrayType(.....),True),\n",
    "    StructField(\"paymentData\",ArrayType(.....),True),\n",
    "    StructField(\"packageAttachment\",ArrayType(.....),True),\n",
    "    StructField(\"sellers\",StructType(\n",
    "        StructField(\"id\",StringType(),True),\n",
    "        StructField(\"name\",StringType(),True),\n",
    "        StructField(\"logo\",StringType(),True),\n",
    "        StructField(\"fulfillmentEndpoint\",StringType(),True)        \n",
    "    ),True),\n",
    "    StructField(\"callCenterOperatorData\",StringType(),True),\n",
    "    StructField(\"followUpEmail\",StringType(),True),\n",
    "    StructField(\"lastMessage\",StringType(),True),\n",
    "    StructField(\"hostname\",StringType(),True),\n",
    "    StructField(\"invoiceData\",StringType(),True),\n",
    "    StructField(\"changesAttachment\",StringType(),True),\n",
    "    StructField(\"openTextField\",StringType(),True),\n",
    "    StructField(\"roundingError\",IntegerType(),True),\n",
    "    StructField(\"orderFormId\",StringType(),True),\n",
    "    StructField(\"commercialConditionData\",StringType(),True),\n",
    "    StructField(\"isCompleted\",BooleanType(),True),\n",
    "    StructField(\"customData\",StringType(),True),\n",
    "    StructField(\"storePreferencesData\",ArrayType(....),True),\n",
    "    StructField(\"allowCancellation\",BooleanType(),True),\n",
    "    StructField(\"allowEdition\",BooleanType(),True),\n",
    "    StructField(\"isCheckedIn\",BooleanType(),True),\n",
    "    StructField(\"marketplace\",ArrayType(....),True),\n",
    "    StructField(\"authorizedDate\",TimestampType(),True),\n",
    "    StructField(\"invoicedDate\",StringType(),True),\n",
    "    StructField(\"cancelReason\",StringType(),True),\n",
    "    StructField(\"itemMetadata\",ArrayType(....),True),\n",
    "    StructField(\"subscriptionData\",StringType(),True),\n",
    "    StructField(\"taxData\",StringType(),True),\n",
    "    StructField(\"checkedInPickupPointId\",StringType(),True),\n",
    "    StructField(\"cancellationData\",StringType(),True),\n",
    "    StructField(\"clientPreferencesData\",ArrayType(.....),True)\n",
    "])"
   ]
  },
  {
   "cell_type": "code",
   "execution_count": 0,
   "metadata": {
    "application/vnd.databricks.v1+cell": {
     "cellMetadata": {
      "byteLimit": 2048000,
      "rowLimit": 10000
     },
     "inputWidgets": {},
     "nuid": "dba9f275-868e-4288-b3f6-8f97e86adb90",
     "showTitle": false,
     "title": ""
    }
   },
   "outputs": [],
   "source": []
  }
 ],
 "metadata": {
  "application/vnd.databricks.v1+notebook": {
   "dashboards": [],
   "environmentMetadata": null,
   "language": "python",
   "notebookMetadata": {
    "pythonIndentUnit": 4
   },
   "notebookName": "schema_json_project",
   "widgets": {}
  }
 },
 "nbformat": 4,
 "nbformat_minor": 0
}
