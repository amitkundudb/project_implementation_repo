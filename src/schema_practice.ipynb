{
 "cells": [
  {
   "cell_type": "code",
   "execution_count": 0,
   "metadata": {
    "application/vnd.databricks.v1+cell": {
     "cellMetadata": {
      "byteLimit": 2048000,
      "rowLimit": 10000
     },
     "inputWidgets": {},
     "nuid": "9b01b82d-354b-4601-b375-1fab1325537a",
     "showTitle": false,
     "title": ""
    }
   },
   "outputs": [],
   "source": [
    "from pyspark.sql.types import *\n",
    "\n",
    "# Define the country schema\n",
    "country_schema = StructType([\n",
    "    StructField(\"type\", StringType(), True),\n",
    "    StructField(\"enum\", ArrayType(StringType(),True), True)\n",
    "])\n",
    "\n",
    "# Define the data schema\n",
    "date_schema = StructType([\n",
    "        StructField(\"type\", StringType(), True),\n",
    "        StructField(\"format\", StringType(), True)\n",
    "    ])\n",
    "\n",
    "# Define the details schema\n",
    "data_schema = StructType([\n",
    "    StructField(\"type\", StringType(), True),\n",
    "    StructField(\"properties\", ArrayType(StructType([\n",
    "        StructField(\"field1\", StringType(), True),\n",
    "        StructField(\"field2\", DoubleType(), True),\n",
    "        StructField(\"field3\", BooleanType(), True)\n",
    "    ])), True),\n",
    "    StructField(\"required\", ArrayType(StringType(),True), True)\n",
    "])\n",
    "\n",
    "# Define the issues schema\n",
    "issues_schema = StructType([\n",
    "        StructField(\"type\", StringType(), True),\n",
    "        StructField(\"properties\", ArrayType(StructType([\n",
    "            StructField(\"dateFormatIssue\", BooleanType(), True),\n",
    "            StructField(\"countryDataIssue\", BooleanType(), True)\n",
    "        ])), True)\n",
    "    ])"
   ]
  },
  {
   "cell_type": "code",
   "execution_count": 0,
   "metadata": {
    "application/vnd.databricks.v1+cell": {
     "cellMetadata": {
      "byteLimit": 2048000,
      "rowLimit": 10000
     },
     "inputWidgets": {},
     "nuid": "1675d041-9574-4311-8ecc-5ba36e205e24",
     "showTitle": false,
     "title": ""
    }
   },
   "outputs": [],
   "source": [
    "# Define the properties schema\n",
    "properties_schema_inside = StructType([\n",
    "    StructField(\"country\", ArrayType(country_schema), True),\n",
    "    StructField(\"date\", ArrayType(date_schema), True),\n",
    "    StructField(\"data\", ArrayType(data_schema), True),\n",
    "    StructField(\"issues\", ArrayType(issues_schema), True)\n",
    "])\n",
    "\n",
    "# Define the items schema\n",
    "items_schema =  StructType([\n",
    "        StructField(\"type\", StringType(), True),\n",
    "        StructField(\"properties\", ArrayType(properties_schema_inside), True),\n",
    "        StructField(\"required\", ArrayType(StringType()), True)\n",
    "    ])"
   ]
  },
  {
   "cell_type": "code",
   "execution_count": 0,
   "metadata": {
    "application/vnd.databricks.v1+cell": {
     "cellMetadata": {
      "byteLimit": 2048000,
      "rowLimit": 10000
     },
     "inputWidgets": {},
     "nuid": "2c150732-803d-47f8-9457-7ccc423f09aa",
     "showTitle": false,
     "title": ""
    }
   },
   "outputs": [],
   "source": [
    "# Define the trainingData schema\n",
    "training_data_schema = StructType([\n",
    "        StructField(\"type\", StringType(), True),\n",
    "        StructField(\"items\", ArrayType(items_schema), True)])\n",
    "\n",
    "# Define the metadata schema\n",
    "metadata_schema = StructType([\n",
    "    StructField(\"type\", StringType(), True),\n",
    "    StructField(\"properties\", StructType([\n",
    "        StructField(\"createdBy\", StringType(), True),\n",
    "        StructField(\"createdAt\", StringType(), True),\n",
    "        StructField(\"version\", StringType(), True)\n",
    "    ]), True)\n",
    "])\n"
   ]
  },
  {
   "cell_type": "code",
   "execution_count": 0,
   "metadata": {
    "application/vnd.databricks.v1+cell": {
     "cellMetadata": {
      "byteLimit": 2048000,
      "rowLimit": 10000
     },
     "inputWidgets": {},
     "nuid": "108412b1-153b-4bae-a227-1f88f4a5aeb7",
     "showTitle": false,
     "title": ""
    }
   },
   "outputs": [],
   "source": [
    "schema = StructType([\n",
    "    StructField(\"type\", StringType(), True),\n",
    "    StructField(\"properties\", StructType([\n",
    "        StructField(\"trainingData\",(items_schema), True),\n",
    "        StructField(\"metadata\", (metadata_schema), True)\n",
    "    ]), True),\n",
    "    StructField(\"required\", StringType(), True)\n",
    "])"
   ]
  },
  {
   "cell_type": "code",
   "execution_count": 0,
   "metadata": {
    "application/vnd.databricks.v1+cell": {
     "cellMetadata": {
      "byteLimit": 2048000,
      "rowLimit": 10000
     },
     "inputWidgets": {},
     "nuid": "0e763f4e-7bca-4fe0-8ea2-ce6166b6fbd2",
     "showTitle": false,
     "title": ""
    }
   },
   "outputs": [
    {
     "output_type": "display_data",
     "data": {
      "text/html": [
       "<style scoped>\n",
       "  .table-result-container {\n",
       "    max-height: 300px;\n",
       "    overflow: auto;\n",
       "  }\n",
       "  table, th, td {\n",
       "    border: 1px solid black;\n",
       "    border-collapse: collapse;\n",
       "  }\n",
       "  th, td {\n",
       "    padding: 5px;\n",
       "  }\n",
       "  th {\n",
       "    text-align: left;\n",
       "  }\n",
       "</style><div class='table-result-container'><table class='table-result'><thead style='background-color: white'><tr><th>type</th><th>properties</th><th>required</th></tr></thead><tbody><tr><td>object</td><td>List(List(array, null, null), List(object, List({\"type\":\"string\"}, {\"type\":\"string\",\"format\":\"date-time\"}, {\"type\":\"string\"})))</td><td>[\"trainingData\",\"metadata\"]</td></tr></tbody></table></div>"
      ]
     },
     "metadata": {
      "application/vnd.databricks.v1+output": {
       "addedWidgets": {},
       "aggData": [],
       "aggError": "",
       "aggOverflow": false,
       "aggSchema": [],
       "aggSeriesLimitReached": false,
       "aggType": "",
       "arguments": {},
       "columnCustomDisplayInfos": {},
       "data": [
        [
         "object",
         [
          [
           "array",
           null,
           null
          ],
          [
           "object",
           [
            "{\"type\":\"string\"}",
            "{\"type\":\"string\",\"format\":\"date-time\"}",
            "{\"type\":\"string\"}"
           ]
          ]
         ],
         "[\"trainingData\",\"metadata\"]"
        ]
       ],
       "datasetInfos": [],
       "dbfsResultPath": null,
       "isJsonSchema": true,
       "metadata": {},
       "overflow": false,
       "plotOptions": {
        "customPlotOptions": {},
        "displayType": "table",
        "pivotAggregation": null,
        "pivotColumns": null,
        "xColumns": null,
        "yColumns": null
       },
       "removedWidgets": [],
       "schema": [
        {
         "metadata": "{}",
         "name": "type",
         "type": "\"string\""
        },
        {
         "metadata": "{}",
         "name": "properties",
         "type": "{\"type\":\"struct\",\"fields\":[{\"name\":\"trainingData\",\"type\":{\"type\":\"struct\",\"fields\":[{\"name\":\"type\",\"type\":\"string\",\"nullable\":true,\"metadata\":{}},{\"name\":\"properties\",\"type\":{\"type\":\"array\",\"elementType\":{\"type\":\"struct\",\"fields\":[{\"name\":\"country\",\"type\":{\"type\":\"array\",\"elementType\":{\"type\":\"struct\",\"fields\":[{\"name\":\"type\",\"type\":\"string\",\"nullable\":true,\"metadata\":{}},{\"name\":\"enum\",\"type\":{\"type\":\"array\",\"elementType\":\"string\",\"containsNull\":true},\"nullable\":true,\"metadata\":{}}]},\"containsNull\":true},\"nullable\":true,\"metadata\":{}},{\"name\":\"date\",\"type\":{\"type\":\"array\",\"elementType\":{\"type\":\"struct\",\"fields\":[{\"name\":\"type\",\"type\":\"string\",\"nullable\":true,\"metadata\":{}},{\"name\":\"format\",\"type\":\"string\",\"nullable\":true,\"metadata\":{}}]},\"containsNull\":true},\"nullable\":true,\"metadata\":{}},{\"name\":\"data\",\"type\":{\"type\":\"array\",\"elementType\":{\"type\":\"struct\",\"fields\":[{\"name\":\"type\",\"type\":\"string\",\"nullable\":true,\"metadata\":{}},{\"name\":\"properties\",\"type\":{\"type\":\"array\",\"elementType\":{\"type\":\"struct\",\"fields\":[{\"name\":\"field1\",\"type\":\"string\",\"nullable\":true,\"metadata\":{}},{\"name\":\"field2\",\"type\":\"double\",\"nullable\":true,\"metadata\":{}},{\"name\":\"field3\",\"type\":\"boolean\",\"nullable\":true,\"metadata\":{}}]},\"containsNull\":true},\"nullable\":true,\"metadata\":{}},{\"name\":\"required\",\"type\":{\"type\":\"array\",\"elementType\":\"string\",\"containsNull\":true},\"nullable\":true,\"metadata\":{}}]},\"containsNull\":true},\"nullable\":true,\"metadata\":{}},{\"name\":\"issues\",\"type\":{\"type\":\"array\",\"elementType\":{\"type\":\"struct\",\"fields\":[{\"name\":\"type\",\"type\":\"string\",\"nullable\":true,\"metadata\":{}},{\"name\":\"properties\",\"type\":{\"type\":\"array\",\"elementType\":{\"type\":\"struct\",\"fields\":[{\"name\":\"dateFormatIssue\",\"type\":\"boolean\",\"nullable\":true,\"metadata\":{}},{\"name\":\"countryDataIssue\",\"type\":\"boolean\",\"nullable\":true,\"metadata\":{}}]},\"containsNull\":true},\"nullable\":true,\"metadata\":{}}]},\"containsNull\":true},\"nullable\":true,\"metadata\":{}}]},\"containsNull\":true},\"nullable\":true,\"metadata\":{}},{\"name\":\"required\",\"type\":{\"type\":\"array\",\"elementType\":\"string\",\"containsNull\":true},\"nullable\":true,\"metadata\":{}}]},\"nullable\":true,\"metadata\":{}},{\"name\":\"metadata\",\"type\":{\"type\":\"struct\",\"fields\":[{\"name\":\"type\",\"type\":\"string\",\"nullable\":true,\"metadata\":{}},{\"name\":\"properties\",\"type\":{\"type\":\"struct\",\"fields\":[{\"name\":\"createdBy\",\"type\":\"string\",\"nullable\":true,\"metadata\":{}},{\"name\":\"createdAt\",\"type\":\"string\",\"nullable\":true,\"metadata\":{}},{\"name\":\"version\",\"type\":\"string\",\"nullable\":true,\"metadata\":{}}]},\"nullable\":true,\"metadata\":{}}]},\"nullable\":true,\"metadata\":{}}]}"
        },
        {
         "metadata": "{}",
         "name": "required",
         "type": "\"string\""
        }
       ],
       "type": "table"
      }
     },
     "output_type": "display_data"
    }
   ],
   "source": [
    "data = \"/FileStore/new/sample_json_3__1_.json\"\n",
    "\n",
    "df = spark.read.json(data,multiLine=True,schema=schema)\n",
    "df.display()"
   ]
  }
 ],
 "metadata": {
  "application/vnd.databricks.v1+notebook": {
   "dashboards": [],
   "environmentMetadata": null,
   "language": "python",
   "notebookMetadata": {
    "pythonIndentUnit": 4
   },
   "notebookName": "schema_practice",
   "widgets": {}
  }
 },
 "nbformat": 4,
 "nbformat_minor": 0
}
